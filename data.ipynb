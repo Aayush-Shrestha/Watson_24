{
 "cells": [
  {
   "cell_type": "code",
   "execution_count": 1,
   "metadata": {},
   "outputs": [],
   "source": [
    "import pandas as pd"
   ]
  },
  {
   "cell_type": "code",
   "execution_count": 3,
   "metadata": {},
   "outputs": [
    {
     "name": "stdout",
     "output_type": "stream",
     "text": [
      "<class 'pandas.core.frame.DataFrame'>\n",
      "RangeIndex: 23950 entries, 0 to 23949\n",
      "Data columns (total 26 columns):\n",
      " #   Column                           Non-Null Count  Dtype  \n",
      "---  ------                           --------------  -----  \n",
      " 0   Drug_ID                          23950 non-null  object \n",
      " 1   Drug_Name                        23950 non-null  object \n",
      " 2   Brand_Name                       5066 non-null   object \n",
      " 3   Drug_Dose                        16354 non-null  object \n",
      " 4   Dosage_Form                      18487 non-null  object \n",
      " 5   Food_Herb_ID                     23950 non-null  object \n",
      " 6   Food_Herb_Name                   23950 non-null  object \n",
      " 7   Type                             23950 non-null  object \n",
      " 8   Component                        20221 non-null  object \n",
      " 9   Dose                             15332 non-null  object \n",
      " 10  Note                             3559 non-null   object \n",
      " 11  Time                             8848 non-null   object \n",
      " 12  Result                           23907 non-null  object \n",
      " 13  Experimental_Species             17504 non-null  object \n",
      " 14  Experimental_Design              3530 non-null   object \n",
      " 15  Experimental_Individuals_Number  15500 non-null  object \n",
      " 16  Test_Method                      15584 non-null  object \n",
      " 17  Test_Sample                      17057 non-null  object \n",
      " 18  Effect                           23950 non-null  object \n",
      " 19  Potential_Target                 13331 non-null  object \n",
      " 20  Target_ID                        13147 non-null  object \n",
      " 21  Conclusion                       23950 non-null  object \n",
      " 22  PMID                             18478 non-null  float64\n",
      " 23  Reference                        23950 non-null  object \n",
      " 24  DOI                              17362 non-null  object \n",
      " 25  Relationship_classification      23950 non-null  object \n",
      "dtypes: float64(1), object(25)\n",
      "memory usage: 4.8+ MB\n"
     ]
    }
   ],
   "source": [
    "df = pd.read_csv(\"Interaction_Information.csv\")\n",
    "df.info()"
   ]
  },
  {
   "cell_type": "code",
   "execution_count": 4,
   "metadata": {},
   "outputs": [
    {
     "data": {
      "text/html": [
       "<div>\n",
       "<style scoped>\n",
       "    .dataframe tbody tr th:only-of-type {\n",
       "        vertical-align: middle;\n",
       "    }\n",
       "\n",
       "    .dataframe tbody tr th {\n",
       "        vertical-align: top;\n",
       "    }\n",
       "\n",
       "    .dataframe thead th {\n",
       "        text-align: right;\n",
       "    }\n",
       "</style>\n",
       "<table border=\"1\" class=\"dataframe\">\n",
       "  <thead>\n",
       "    <tr style=\"text-align: right;\">\n",
       "      <th></th>\n",
       "      <th>Drug_Name</th>\n",
       "      <th>Food_Herb_Name</th>\n",
       "      <th>Effect</th>\n",
       "      <th>Conclusion</th>\n",
       "      <th>Reference</th>\n",
       "      <th>DOI</th>\n",
       "    </tr>\n",
       "  </thead>\n",
       "  <tbody>\n",
       "    <tr>\n",
       "      <th>0</th>\n",
       "      <td>Flurbiprofen</td>\n",
       "      <td>Pomegranate</td>\n",
       "      <td>No Effect</td>\n",
       "      <td>Despite inhibition of CYP2C9 in vitro, pomegra...</td>\n",
       "      <td>Pomegranate juice and pomegranate extract do n...</td>\n",
       "      <td>10.1038/clpt.2012.170</td>\n",
       "    </tr>\n",
       "    <tr>\n",
       "      <th>1</th>\n",
       "      <td>Simvastatin</td>\n",
       "      <td>Pomegranate</td>\n",
       "      <td>Positive</td>\n",
       "      <td>Pomegranate can slightly affect its efficacy</td>\n",
       "      <td>Effects of regular consumption of grapefruit j...</td>\n",
       "      <td>10.1111/j.1365-2125.2004.02095.x</td>\n",
       "    </tr>\n",
       "    <tr>\n",
       "      <th>2</th>\n",
       "      <td>Midazolam</td>\n",
       "      <td>Pomegranate</td>\n",
       "      <td>No Effect</td>\n",
       "      <td>PJ does not alter clearance of intravenous or ...</td>\n",
       "      <td>Pomegranate juice does not impair clearance of...</td>\n",
       "      <td>10.1177/0091270006298359</td>\n",
       "    </tr>\n",
       "    <tr>\n",
       "      <th>3</th>\n",
       "      <td>Midazolam</td>\n",
       "      <td>Pomegranate</td>\n",
       "      <td>No Effect</td>\n",
       "      <td>PJ does not alter clearance of intravenous or ...</td>\n",
       "      <td>Pomegranate juice does not impair clearance of...</td>\n",
       "      <td>10.1177/0091270006298359</td>\n",
       "    </tr>\n",
       "    <tr>\n",
       "      <th>4</th>\n",
       "      <td>Midazolam</td>\n",
       "      <td>Pomegranate</td>\n",
       "      <td>No Effect</td>\n",
       "      <td>In this small Japanese adult volunteer populat...</td>\n",
       "      <td>Effect of 2 weeks' consumption of pomegranate ...</td>\n",
       "      <td>10.1016/j.clinthera.2011.02.012</td>\n",
       "    </tr>\n",
       "  </tbody>\n",
       "</table>\n",
       "</div>"
      ],
      "text/plain": [
       "      Drug_Name Food_Herb_Name     Effect  \\\n",
       "0  Flurbiprofen    Pomegranate  No Effect   \n",
       "1   Simvastatin    Pomegranate   Positive   \n",
       "2     Midazolam    Pomegranate  No Effect   \n",
       "3     Midazolam    Pomegranate  No Effect   \n",
       "4     Midazolam    Pomegranate  No Effect   \n",
       "\n",
       "                                          Conclusion  \\\n",
       "0  Despite inhibition of CYP2C9 in vitro, pomegra...   \n",
       "1       Pomegranate can slightly affect its efficacy   \n",
       "2  PJ does not alter clearance of intravenous or ...   \n",
       "3  PJ does not alter clearance of intravenous or ...   \n",
       "4  In this small Japanese adult volunteer populat...   \n",
       "\n",
       "                                           Reference  \\\n",
       "0  Pomegranate juice and pomegranate extract do n...   \n",
       "1  Effects of regular consumption of grapefruit j...   \n",
       "2  Pomegranate juice does not impair clearance of...   \n",
       "3  Pomegranate juice does not impair clearance of...   \n",
       "4  Effect of 2 weeks' consumption of pomegranate ...   \n",
       "\n",
       "                                DOI  \n",
       "0             10.1038/clpt.2012.170  \n",
       "1  10.1111/j.1365-2125.2004.02095.x  \n",
       "2          10.1177/0091270006298359  \n",
       "3          10.1177/0091270006298359  \n",
       "4   10.1016/j.clinthera.2011.02.012  "
      ]
     },
     "execution_count": 4,
     "metadata": {},
     "output_type": "execute_result"
    }
   ],
   "source": [
    "columns_to_remove = [\"Drug_ID\", \"Brand_Name\",\"Drug_Dose\",\"Dosage_Form\",\"Type\",\"Test_Method\",\"Food_Herb_ID\",\"Relationship_classification\",\n",
    "                     \"PMID\",\"Target_ID\",\"Potential_Target\",\"Test_Sample\",\"Component\",\"Dose\",\"Note\",\"Time\",\"Result\",\"Experimental_Species\",\n",
    "                     \"Experimental_Design\",\"Experimental_Individuals_Number\"]\n",
    "df = df.drop(columns=columns_to_remove)\n",
    "df.head()"
   ]
  },
  {
   "cell_type": "code",
   "execution_count": 5,
   "metadata": {},
   "outputs": [
    {
     "name": "stdout",
     "output_type": "stream",
     "text": [
      "<class 'pandas.core.frame.DataFrame'>\n",
      "Index: 17362 entries, 0 to 23949\n",
      "Data columns (total 6 columns):\n",
      " #   Column          Non-Null Count  Dtype \n",
      "---  ------          --------------  ----- \n",
      " 0   Drug_Name       17362 non-null  object\n",
      " 1   Food_Herb_Name  17362 non-null  object\n",
      " 2   Effect          17362 non-null  object\n",
      " 3   Conclusion      17362 non-null  object\n",
      " 4   Reference       17362 non-null  object\n",
      " 5   DOI             17362 non-null  object\n",
      "dtypes: object(6)\n",
      "memory usage: 949.5+ KB\n"
     ]
    }
   ],
   "source": [
    "df= df.dropna()\n",
    "df.info()"
   ]
  },
  {
   "cell_type": "code",
   "execution_count": 7,
   "metadata": {},
   "outputs": [
    {
     "data": {
      "text/plain": [
       "593"
      ]
     },
     "execution_count": 7,
     "metadata": {},
     "output_type": "execute_result"
    }
   ],
   "source": [
    "df[\"Drug_Name\"].nunique()"
   ]
  },
  {
   "cell_type": "code",
   "execution_count": 13,
   "metadata": {},
   "outputs": [
    {
     "name": "stdout",
     "output_type": "stream",
     "text": [
      "<class 'pandas.core.frame.DataFrame'>\n",
      "Index: 16242 entries, 1 to 23949\n",
      "Data columns (total 6 columns):\n",
      " #   Column          Non-Null Count  Dtype \n",
      "---  ------          --------------  ----- \n",
      " 0   Drug_Name       16242 non-null  object\n",
      " 1   Food_Herb_Name  16242 non-null  object\n",
      " 2   Effect          16242 non-null  object\n",
      " 3   Conclusion      16242 non-null  object\n",
      " 4   Reference       16242 non-null  object\n",
      " 5   DOI             16242 non-null  object\n",
      "dtypes: object(6)\n",
      "memory usage: 888.2+ KB\n"
     ]
    }
   ],
   "source": [
    "df[\"Effect\"].unique()\n",
    "df = df[df[\"Effect\"] != \"No Effect\"]\n",
    "df.info()"
   ]
  },
  {
   "cell_type": "code",
   "execution_count": 14,
   "metadata": {},
   "outputs": [],
   "source": [
    "df.to_csv('interactions.csv')"
   ]
  },
  {
   "cell_type": "code",
   "execution_count": null,
   "metadata": {},
   "outputs": [],
   "source": []
  }
 ],
 "metadata": {
  "kernelspec": {
   "display_name": "venv",
   "language": "python",
   "name": "python3"
  },
  "language_info": {
   "codemirror_mode": {
    "name": "ipython",
    "version": 3
   },
   "file_extension": ".py",
   "mimetype": "text/x-python",
   "name": "python",
   "nbconvert_exporter": "python",
   "pygments_lexer": "ipython3",
   "version": "3.8.10"
  }
 },
 "nbformat": 4,
 "nbformat_minor": 2
}
